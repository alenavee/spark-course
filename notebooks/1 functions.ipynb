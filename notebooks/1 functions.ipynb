{
 "cells": [
  {
   "cell_type": "raw",
   "metadata": {
    "format": "text/plain"
   },
   "source": [
    "%sh\n",
    "\n",
    "cd data\n",
    "rm -rf data_nov.csv.zip\n",
    "curl http://37.139.43.86/data-nov > data_nov.csv\n",
    "\n",
    "\n",
    "ls -lh ./\n"
   ]
  },
  {
   "cell_type": "raw",
   "metadata": {
    "format": "text/plain"
   },
   "source": [
    "%sh\n",
    "\n",
    "hdfs dfs -mkdir data\n",
    "\n",
    "hdfs dfs -put data/data_nov.csv data"
   ]
  },
  {
   "cell_type": "raw",
   "metadata": {
    "format": "text/plain"
   },
   "source": [
    "%sh\n",
    "\n",
    "hdfs dfs -du -h data\n"
   ]
  },
  {
   "cell_type": "code",
   "execution_count": 3,
   "metadata": {
    "autoscroll": "auto"
   },
   "outputs": [],
   "source": [
    "spark.sql(\"show databases\").show()\n"
   ]
  },
  {
   "cell_type": "code",
   "execution_count": 4,
   "metadata": {
    "autoscroll": "auto"
   },
   "outputs": [],
   "source": [
    "# schema = \"event_time timestamp, event_type string, product_id long, category_id long, category_code string, brand string, price float, user_id long, user_session string\"\n",
    "\n",
    "df = spark.read \\\n",
    "    .option(\"inferSchema\", \"true\") \\\n",
    "    .option(\"header\", \"true\") \\\n",
    "    .csv(\"data/data_nov.csv\")\n",
    "\n",
    "df.printSchema()\n",
    "\n",
    "df \\\n",
    ".write.mode(\"overwrite\") \\\n",
    ".format(\"parquet\") \\\n",
    ".save(\"data/data_nov.parquet\")"
   ]
  },
  {
   "cell_type": "code",
   "execution_count": 5,
   "metadata": {
    "autoscroll": "auto"
   },
   "outputs": [],
   "source": [
    "df.show()"
   ]
  },
  {
   "cell_type": "raw",
   "metadata": {
    "format": "text/plain"
   },
   "source": [
    "%sh\n",
    "\n",
    "hdfs dfs -du -h data\n"
   ]
  },
  {
   "cell_type": "raw",
   "metadata": {
    "format": "text/plain"
   },
   "source": [
    "%sh\n",
    "\n",
    "hdfs dfs -du -h data/data_nov.parquet"
   ]
  },
  {
   "cell_type": "code",
   "execution_count": 8,
   "metadata": {
    "autoscroll": "auto"
   },
   "outputs": [],
   "source": [
    "spark.read.parquet(\"data/data_nov.parquet\").coalesce(1).write.mode(\"overwrite\").parquet(\"data/data_nov_coalesce.parquet\")"
   ]
  },
  {
   "cell_type": "raw",
   "metadata": {
    "format": "text/plain"
   },
   "source": [
    "%sh\n",
    "hdfs dfs -du -h data/data_nov_coalesce.parquet"
   ]
  },
  {
   "cell_type": "code",
   "execution_count": 10,
   "metadata": {
    "autoscroll": "auto"
   },
   "outputs": [],
   "source": [
    "events_df = spark.read.parquet(\"data/data_nov_coalesce.parquet\")\n",
    "\n",
    "events_df.printSchema()\n",
    "events_df.show(100)"
   ]
  },
  {
   "cell_type": "code",
   "execution_count": 11,
   "metadata": {
    "autoscroll": "auto"
   },
   "outputs": [],
   "source": [
    "events_df.select(f.min(\"event_time\"), f.max(\"event_time\")).show(truncate=False)"
   ]
  },
  {
   "cell_type": "code",
   "execution_count": 12,
   "metadata": {
    "autoscroll": "auto"
   },
   "outputs": [],
   "source": [
    "events_df.where(\"brand = 'intel'\").show()"
   ]
  },
  {
   "cell_type": "code",
   "execution_count": 13,
   "metadata": {
    "autoscroll": "auto"
   },
   "outputs": [],
   "source": [
    "print(\"Hello \" + z.textbox(\"name\"))"
   ]
  },
  {
   "cell_type": "code",
   "execution_count": 14,
   "metadata": {
    "autoscroll": "auto"
   },
   "outputs": [],
   "source": [
    "spark.sql(\"create database src_data\")\n",
    "\n",
    "events_df.write.saveAsTable(\"src_data.events\")"
   ]
  },
  {
   "cell_type": "raw",
   "metadata": {
    "format": "text/plain"
   },
   "source": [
    "%sh\n",
    "\n",
    "hdfs dfs -du -h /apps/hive/warehouse\n"
   ]
  },
  {
   "cell_type": "raw",
   "metadata": {
    "format": "text/plain"
   },
   "source": [
    "%sh\n",
    "\n",
    "hdfs dfs -du -h /apps/hive/warehouse/src_data.db/events"
   ]
  },
  {
   "cell_type": "code",
   "execution_count": 17,
   "metadata": {
    "autoscroll": "auto"
   },
   "outputs": [],
   "source": [
    "import pyspark.sql.functions as f\n",
    "\n",
    "\n",
    "spark.sql(\"create database market\")\n",
    "\n",
    "spark.table(\"src_data.events\") \\\n",
    ".withColumn(\"date\", f.to_date(\"event_time\")) \\\n",
    ".write.partitionBy(\"date\").saveAsTable(\"market.events\")"
   ]
  },
  {
   "cell_type": "raw",
   "metadata": {
    "format": "text/plain"
   },
   "source": [
    "%sh\n",
    "\n",
    "\n",
    "hdfs dfs -du -h /apps/hive/warehouse/market.db/events\n"
   ]
  },
  {
   "cell_type": "raw",
   "metadata": {
    "format": "text/plain"
   },
   "source": [
    "%sh\n",
    "\n",
    "hdfs dfs -du -h /apps/hive/warehouse/market.db/events/date=2019-11-03"
   ]
  },
  {
   "cell_type": "code",
   "execution_count": 20,
   "metadata": {
    "autoscroll": "auto"
   },
   "outputs": [],
   "source": [
    "import pyspark.sql.functions as f\n",
    "\n",
    "events_df \\\n",
    "    .groupBy(\"event_type\") \\\n",
    "    .agg(\n",
    "        f.count(\"*\").alias(\"count\")\n",
    "        ) \\\n",
    "    .orderBy(f.col(\"count\").desc()) \\\n",
    "    .show(truncate=False)\n"
   ]
  },
  {
   "cell_type": "raw",
   "metadata": {
    "format": "text/plain"
   },
   "source": [
    "%sh\n"
   ]
  },
  {
   "cell_type": "code",
   "execution_count": 22,
   "metadata": {
    "autoscroll": "auto"
   },
   "outputs": [],
   "source": []
  }
 ],
 "metadata": {
  "kernelspec": {
   "display_name": "Spark 2.0.0",
   "language": "python",
   "name": "spark2"
  },
  "language_info": {
   "codemirror_mode": "text/python",
   "file_extension": ".py",
   "mimetype": "text/python",
   "name": "scala",
   "pygments_lexer": "python",
   "version": "3.6"
  }
 },
 "nbformat": 4,
 "nbformat_minor": 2
}
