{
 "cells": [
  {
   "cell_type": "code",
   "execution_count": 0,
   "metadata": {
    "autoscroll": "auto"
   },
   "outputs": [],
   "source": [
    "rdd = sc.parallelize([(1,2), (3,4), (3,6), (4,5), (3, 4), (1, 5), (4, 1)])\n",
    "\n",
    "rdd.groupByKey().map(lambda x:(x[0], sum(x[1])) ).collect()\n"
   ]
  },
  {
   "cell_type": "code",
   "execution_count": 1,
   "metadata": {
    "autoscroll": "auto"
   },
   "outputs": [],
   "source": [
    "lines = sc.parallelize([\n",
    "    \"a ab abc\",\n",
    "    \"a ac abc\",\n",
    "    \"b b ab abc\"\n",
    "    ])\n",
    "\n",
    "counts = lines.flatMap(lambda x: x.split(' ')) \\\n",
    "# дополнить код, чтобы получился rdd из пар (слово, частота)\n",
    "counts = counts.map(lambda x: (x,1)).reduceByKey(lambda x,y:x+y)\n",
    "\n",
    "output = counts.collect()\n",
    "\n",
    "for (word, count) in output:\n",
    "    print(\"%s: %i\" % (word, count))"
   ]
  },
  {
   "cell_type": "code",
   "execution_count": 2,
   "metadata": {
    "autoscroll": "auto"
   },
   "outputs": [],
   "source": []
  }
 ],
 "metadata": {
  "kernelspec": {
   "display_name": "Spark 2.0.0",
   "language": "python",
   "name": "spark2"
  },
  "language_info": {
   "codemirror_mode": "text/python",
   "file_extension": ".py",
   "mimetype": "text/python",
   "name": "scala",
   "pygments_lexer": "python",
   "version": "3.6"
  }
 },
 "nbformat": 4,
 "nbformat_minor": 2
}
