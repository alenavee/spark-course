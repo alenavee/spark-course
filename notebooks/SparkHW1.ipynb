{
 "cells": [
  {
   "cell_type": "markdown",
   "metadata": {},
   "source": [
    "* Скопировать тетрадку в тетрадку it_3/<логин>/1 hw\n",
    "(Кнопка скопировать пятая в верхнем ряду)\n",
    "\n",
    "* Дополнить параграфы своим кодом, чтобы получился аналогичный вывод параграфов\n",
    "\n",
    "* Прислать ссылку на решение преподавателю в телеграм"
   ]
  },
  {
   "cell_type": "code",
   "execution_count": 1,
   "metadata": {
    "autoscroll": "auto"
   },
   "outputs": [],
   "source": [
    "import pyspark.sql.functions as f\n",
    "\n",
    "events_df = spark.table(\"market.events\")\n",
    "\n",
    "df = events_df \\\n",
    ".filter(\"event_type == 'view'\") \\\n",
    ".groupBy('category_code') \\\n",
    ".count() \\\n",
    ".orderBy('count', ascending=False) \\\n",
    ".show(truncate=False)\n",
    "\n"
   ]
  },
  {
   "cell_type": "code",
   "execution_count": 2,
   "metadata": {
    "autoscroll": "auto"
   },
   "outputs": [],
   "source": [
    "import pyspark.sql.functions as f\n",
    "\n",
    "\n",
    "events_df = spark.table(\"market.events\")\n",
    "\n",
    "bin = (f.col(\"price\")/10).cast(\"Integer\")*10\n",
    "date = f.col(\"date\") == \"2019-11-10\"\n",
    "purchased = f.col(\"event_type\") == \"purchase\"\n",
    "\n",
    "z.show(\n",
    "    events_df \\\n",
    "    .filter(date & purchased) \\\n",
    "    .dropDuplicates([\"product_id\"]) \\\n",
    "    .withColumn(\"bins\", bin) \\\n",
    "    .groupBy(\"bins\") \\\n",
    "    .agg(\n",
    "        f.count(\"*\").alias(\"count\")\n",
    "        ) \n",
    ")\n"
   ]
  }
 ],
 "metadata": {
  "kernelspec": {
   "display_name": "Spark 2.0.0",
   "language": "python",
   "name": "spark2"
  },
  "language_info": {
   "codemirror_mode": "text/python",
   "file_extension": ".py",
   "mimetype": "text/python",
   "name": "scala",
   "pygments_lexer": "python",
   "version": "3.6"
  }
 },
 "nbformat": 4,
 "nbformat_minor": 2
}
